{
 "cells": [
  {
   "cell_type": "code",
   "execution_count": 42,
   "metadata": {},
   "outputs": [],
   "source": [
    "import pandas as pd\n",
    "import numpy as np\n",
    "import matplotlib.pyplot as plt\n",
    "%matplotlib inline"
   ]
  },
  {
   "cell_type": "code",
   "execution_count": 43,
   "metadata": {},
   "outputs": [
    {
     "data": {
      "text/html": [
       "<div>\n",
       "<style scoped>\n",
       "    .dataframe tbody tr th:only-of-type {\n",
       "        vertical-align: middle;\n",
       "    }\n",
       "\n",
       "    .dataframe tbody tr th {\n",
       "        vertical-align: top;\n",
       "    }\n",
       "\n",
       "    .dataframe thead th {\n",
       "        text-align: right;\n",
       "    }\n",
       "</style>\n",
       "<table border=\"1\" class=\"dataframe\">\n",
       "  <thead>\n",
       "    <tr style=\"text-align: right;\">\n",
       "      <th></th>\n",
       "      <th>Year</th>\n",
       "      <th>Cancer Rate</th>\n",
       "    </tr>\n",
       "  </thead>\n",
       "  <tbody>\n",
       "    <tr>\n",
       "      <th>0</th>\n",
       "      <td>1975</td>\n",
       "      <td>7.7677</td>\n",
       "    </tr>\n",
       "    <tr>\n",
       "      <th>1</th>\n",
       "      <td>1976</td>\n",
       "      <td>8.2232</td>\n",
       "    </tr>\n",
       "    <tr>\n",
       "      <th>2</th>\n",
       "      <td>1977</td>\n",
       "      <td>8.7055</td>\n",
       "    </tr>\n",
       "    <tr>\n",
       "      <th>3</th>\n",
       "      <td>1978</td>\n",
       "      <td>9.2160</td>\n",
       "    </tr>\n",
       "    <tr>\n",
       "      <th>4</th>\n",
       "      <td>1979</td>\n",
       "      <td>9.7565</td>\n",
       "    </tr>\n",
       "  </tbody>\n",
       "</table>\n",
       "</div>"
      ],
      "text/plain": [
       "   Year  Cancer Rate\n",
       "0  1975       7.7677\n",
       "1  1976       8.2232\n",
       "2  1977       8.7055\n",
       "3  1978       9.2160\n",
       "4  1979       9.7565"
      ]
     },
     "execution_count": 43,
     "metadata": {},
     "output_type": "execute_result"
    }
   ],
   "source": [
    "raw_data = pd.read_csv(\"../Processed Datasets/cancer_rate_new.csv\")\n",
    "raw_data.columns = ['Year', 'Cancer Rate']\n",
    "raw_data.head()"
   ]
  },
  {
   "cell_type": "code",
   "execution_count": 44,
   "metadata": {},
   "outputs": [
    {
     "data": {
      "text/plain": [
       "DatetimeIndex(['1975-01-01', '1976-01-01', '1977-01-01', '1978-01-01',\n",
       "               '1979-01-01', '1980-01-01', '1981-01-01', '1982-01-01',\n",
       "               '1983-01-01', '1984-01-01', '1985-01-01', '1986-01-01',\n",
       "               '1987-01-01', '1988-01-01', '1989-01-01', '1990-01-01',\n",
       "               '1991-01-01', '1992-01-01', '1993-01-01', '1994-01-01',\n",
       "               '1995-01-01', '1996-01-01', '1997-01-01', '1998-01-01',\n",
       "               '1999-01-01', '2000-01-01', '2001-01-01', '2002-01-01',\n",
       "               '2003-01-01', '2004-01-01', '2005-01-01', '2006-01-01',\n",
       "               '2007-01-01', '2008-01-01', '2009-01-01', '2010-01-01',\n",
       "               '2011-01-01', '2012-01-01', '2013-01-01', '2014-01-01',\n",
       "               '2015-01-01', '2016-01-01', '2017-01-01', '2018-01-01'],\n",
       "              dtype='datetime64[ns]', name='date', freq=None)"
      ]
     },
     "execution_count": 44,
     "metadata": {},
     "output_type": "execute_result"
    }
   ],
   "source": [
    "raw_data.drop_duplicates(subset=\"Year\", keep=\"first\", inplace=True)\n",
    "data = raw_data.copy()\n",
    "data[\"date\"] = pd.to_datetime(data[\"Year\"], format=\"%Y\").dt.normalize()\n",
    "data.set_index(data[\"date\"], inplace=True)\n",
    "data.index"
   ]
  },
  {
   "cell_type": "code",
   "execution_count": 45,
   "metadata": {},
   "outputs": [
    {
     "data": {
      "text/html": [
       "<div>\n",
       "<style scoped>\n",
       "    .dataframe tbody tr th:only-of-type {\n",
       "        vertical-align: middle;\n",
       "    }\n",
       "\n",
       "    .dataframe tbody tr th {\n",
       "        vertical-align: top;\n",
       "    }\n",
       "\n",
       "    .dataframe thead th {\n",
       "        text-align: right;\n",
       "    }\n",
       "</style>\n",
       "<table border=\"1\" class=\"dataframe\">\n",
       "  <thead>\n",
       "    <tr style=\"text-align: right;\">\n",
       "      <th></th>\n",
       "      <th>Year</th>\n",
       "      <th>Cancer Rate</th>\n",
       "      <th>date</th>\n",
       "    </tr>\n",
       "    <tr>\n",
       "      <th>date</th>\n",
       "      <th></th>\n",
       "      <th></th>\n",
       "      <th></th>\n",
       "    </tr>\n",
       "  </thead>\n",
       "  <tbody>\n",
       "    <tr>\n",
       "      <th>1975-01-01</th>\n",
       "      <td>1975</td>\n",
       "      <td>7.7677</td>\n",
       "      <td>1975-01-01</td>\n",
       "    </tr>\n",
       "    <tr>\n",
       "      <th>1976-01-01</th>\n",
       "      <td>1976</td>\n",
       "      <td>8.2232</td>\n",
       "      <td>1976-01-01</td>\n",
       "    </tr>\n",
       "    <tr>\n",
       "      <th>1977-01-01</th>\n",
       "      <td>1977</td>\n",
       "      <td>8.7055</td>\n",
       "      <td>1977-01-01</td>\n",
       "    </tr>\n",
       "    <tr>\n",
       "      <th>1978-01-01</th>\n",
       "      <td>1978</td>\n",
       "      <td>9.2160</td>\n",
       "      <td>1978-01-01</td>\n",
       "    </tr>\n",
       "    <tr>\n",
       "      <th>1979-01-01</th>\n",
       "      <td>1979</td>\n",
       "      <td>9.7565</td>\n",
       "      <td>1979-01-01</td>\n",
       "    </tr>\n",
       "  </tbody>\n",
       "</table>\n",
       "</div>"
      ],
      "text/plain": [
       "            Year  Cancer Rate       date\n",
       "date                                    \n",
       "1975-01-01  1975       7.7677 1975-01-01\n",
       "1976-01-01  1976       8.2232 1976-01-01\n",
       "1977-01-01  1977       8.7055 1977-01-01\n",
       "1978-01-01  1978       9.2160 1978-01-01\n",
       "1979-01-01  1979       9.7565 1979-01-01"
      ]
     },
     "execution_count": 45,
     "metadata": {},
     "output_type": "execute_result"
    }
   ],
   "source": [
    "data.head()"
   ]
  },
  {
   "cell_type": "code",
   "execution_count": 46,
   "metadata": {},
   "outputs": [
    {
     "data": {
      "text/html": [
       "<div>\n",
       "<style scoped>\n",
       "    .dataframe tbody tr th:only-of-type {\n",
       "        vertical-align: middle;\n",
       "    }\n",
       "\n",
       "    .dataframe tbody tr th {\n",
       "        vertical-align: top;\n",
       "    }\n",
       "\n",
       "    .dataframe thead th {\n",
       "        text-align: right;\n",
       "    }\n",
       "</style>\n",
       "<table border=\"1\" class=\"dataframe\">\n",
       "  <thead>\n",
       "    <tr style=\"text-align: right;\">\n",
       "      <th></th>\n",
       "      <th>Cancer Rate</th>\n",
       "    </tr>\n",
       "    <tr>\n",
       "      <th>date</th>\n",
       "      <th></th>\n",
       "    </tr>\n",
       "  </thead>\n",
       "  <tbody>\n",
       "    <tr>\n",
       "      <th>1975-01-01</th>\n",
       "      <td>7.7677</td>\n",
       "    </tr>\n",
       "    <tr>\n",
       "      <th>1976-01-01</th>\n",
       "      <td>8.2232</td>\n",
       "    </tr>\n",
       "    <tr>\n",
       "      <th>1977-01-01</th>\n",
       "      <td>8.7055</td>\n",
       "    </tr>\n",
       "    <tr>\n",
       "      <th>1978-01-01</th>\n",
       "      <td>9.2160</td>\n",
       "    </tr>\n",
       "    <tr>\n",
       "      <th>1979-01-01</th>\n",
       "      <td>9.7565</td>\n",
       "    </tr>\n",
       "  </tbody>\n",
       "</table>\n",
       "</div>"
      ],
      "text/plain": [
       "            Cancer Rate\n",
       "date                   \n",
       "1975-01-01       7.7677\n",
       "1976-01-01       8.2232\n",
       "1977-01-01       8.7055\n",
       "1978-01-01       9.2160\n",
       "1979-01-01       9.7565"
      ]
     },
     "execution_count": 46,
     "metadata": {},
     "output_type": "execute_result"
    }
   ],
   "source": [
    "cols = [\"Year\", \"date\"]\n",
    "data.drop(cols, axis=1, inplace=True)\n",
    "data.head()"
   ]
  },
  {
   "cell_type": "code",
   "execution_count": 47,
   "metadata": {},
   "outputs": [
    {
     "data": {
      "image/png": "[encoded data removed]",
      "text/plain": [
       "<Figure size 1500x600 with 1 Axes>"
      ]
     },
     "metadata": {},
     "output_type": "display_data"
    }
   ],
   "source": [
    "data.plot(figsize = (15, 6), legend = None)\n",
    "plt.xlabel('Date', fontsize = 14)\n",
    "plt.ylabel('Cancer Rate', fontsize = 14)\n",
    "plt.title('Yearly Cancer Rate', fontsize = 15)\n",
    "plt.show()"
   ]
  },
  {
   "cell_type": "code",
   "execution_count": 48,
   "metadata": {},
   "outputs": [
    {
     "name": "stdout",
     "output_type": "stream",
     "text": [
      "Results of Dickey-Fuller Test:\n",
      "Test Statistic                 -0.936078\n",
      "p-value                         0.775859\n",
      "No. of Lags Used                1.000000\n",
      "Number of Observations Used    42.000000\n",
      "Critical Value (1%)            -3.596636\n",
      "Critical Value (5%)            -2.933297\n",
      "Critical Value (10%)           -2.604991\n",
      "dtype: float64\n"
     ]
    }
   ],
   "source": [
    "from statsmodels.tsa.stattools import adfuller\n",
    "\n",
    "def adf_test(timeseries):\n",
    "    print ('Results of Dickey-Fuller Test:')\n",
    "    dftest = adfuller(timeseries, autolag = 'AIC')\n",
    "    dfoutput = pd.Series(dftest[0:4], index = ['Test Statistic','p-value','No. of Lags Used',\n",
    "                                             'Number of Observations Used'])\n",
    "    for key,value in dftest[4].items():\n",
    "       dfoutput['Critical Value (%s)'%key] = value\n",
    "    print (dfoutput)\n",
    "    \n",
    "adf_test(data)"
   ]
  },
  {
   "cell_type": "code",
   "execution_count": 52,
   "metadata": {},
   "outputs": [
    {
     "name": "stdout",
     "output_type": "stream",
     "text": [
      "Results of Dickey-Fuller Test:\n",
      "Test Statistic                -7.359164e+00\n",
      "p-value                        9.601597e-11\n",
      "No. of Lags Used               1.000000e+00\n",
      "Number of Observations Used    3.900000e+01\n",
      "Critical Value (1%)           -3.610400e+00\n",
      "Critical Value (5%)           -2.939109e+00\n",
      "Critical Value (10%)          -2.608063e+00\n",
      "dtype: float64\n"
     ]
    }
   ],
   "source": [
    "data[\"Cancer Rate\"] = data[\"Cancer Rate\"].diff()\n",
    "data.dropna(inplace=True)\n",
    "data.head()\n",
    "adf_test(data)"
   ]
  },
  {
   "cell_type": "code",
   "execution_count": 49,
   "metadata": {},
   "outputs": [
    {
     "name": "stdout",
     "output_type": "stream",
     "text": [
      "            Cancer Rate\n",
      "date                   \n",
      "1975-01-01       7.7677\n",
      "1976-01-01       8.2232\n",
      "1977-01-01       8.7055\n",
      "1978-01-01       9.2160\n",
      "1979-01-01       9.7565\n",
      "1980-01-01      10.3286\n",
      "1981-01-01      10.9343\n",
      "1982-01-01      11.2530\n",
      "1983-01-01      11.5809\n",
      "1984-01-01      11.9184\n",
      "1985-01-01      12.2658\n",
      "1986-01-01      12.6232\n",
      "1987-01-01      12.9911\n",
      "1988-01-01      13.3697\n",
      "1989-01-01      13.7593\n",
      "1990-01-01      14.1603\n",
      "1991-01-01      14.5730\n",
      "1992-01-01      14.9977\n",
      "1993-01-01      15.4348\n",
      "1994-01-01      15.8846\n",
      "1995-01-01      16.3475\n",
      "1996-01-01      16.8239\n",
      "1997-01-01      17.3143\n",
      "1998-01-01      17.8188\n",
      "1999-01-01      18.3381\n",
      "2000-01-01      18.8726\n",
      "2001-01-01      19.4226\n",
      "2002-01-01      19.9886\n",
      "2003-01-01      20.5711\n",
      "2004-01-01      21.1707\n",
      "2005-01-01      21.7876\n",
      "2006-01-01      22.0953\n",
      "2007-01-01      22.4073\n",
      "2008-01-01      22.7237\n",
      "2009-01-01      23.0446\n",
      "            Cancer Rate\n",
      "date                   \n",
      "2010-01-01      23.3700\n",
      "2011-01-01      23.7000\n",
      "2012-01-01      24.0347\n",
      "2013-01-01      24.3741\n",
      "2014-01-01      24.7183\n",
      "2015-01-01      25.0673\n",
      "2016-01-01      25.4213\n",
      "2017-01-01      25.7803\n",
      "2018-01-01      26.1443\n"
     ]
    }
   ],
   "source": [
    "train = data[:int(0.8*(len(data)))]\n",
    "test = data[int(0.8*(len(data))):]\n",
    "print(train)\n",
    "print(test)"
   ]
  }
 ],
 "metadata": {
  "kernelspec": {
   "display_name": "Python 3.8.13 ('base')",
   "language": "python",
   "name": "python3"
  },
  "language_info": {
   "codemirror_mode": {
    "name": "ipython",
    "version": 3
   },
   "file_extension": ".py",
   "mimetype": "text/x-python",
   "name": "python",
   "nbconvert_exporter": "python",
   "pygments_lexer": "ipython3",
   "version": "3.8.13"
  },
  "orig_nbformat": 4,
  "vscode": {
   "interpreter": {
    "hash": "88279d2366fe020547cde40dd65aa0e3aa662a6ec1f3ca12d88834876c85e1a6"
   }
  }
 },
 "nbformat": 4,
 "nbformat_minor": 2
}
